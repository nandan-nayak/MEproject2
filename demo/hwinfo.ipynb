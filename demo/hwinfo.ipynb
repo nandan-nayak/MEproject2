{
 "cells": [
  {
   "cell_type": "code",
   "execution_count": 1,
   "metadata": {},
   "outputs": [],
   "source": [
    "import psutil\n",
    "import platform\n",
    "from datetime import datetime"
   ]
  },
  {
   "cell_type": "code",
   "execution_count": 2,
   "metadata": {},
   "outputs": [],
   "source": [
    "def get_size(bytes, suffix=\"B\"):\n",
    "    \"\"\"\n",
    "    Scale bytes to its proper format\n",
    "    e.g:\n",
    "        1253656 => '1.20MB'\n",
    "        1253656678 => '1.17GB'\n",
    "    \"\"\"\n",
    "    factor = 1024\n",
    "    for unit in [\"\", \"K\", \"M\", \"G\", \"T\", \"P\"]:\n",
    "        if bytes < factor:\n",
    "            return f\"{bytes:.2f}{unit}{suffix}\"\n",
    "        bytes /= factor"
   ]
  },
  {
   "cell_type": "code",
   "execution_count": 3,
   "metadata": {},
   "outputs": [
    {
     "name": "stdout",
     "output_type": "stream",
     "text": [
      "======================================== System Information ========================================\n",
      "System: Windows\n",
      "Node Name: DESKTOP-0MFRJ4E\n",
      "Release: 10\n",
      "Version: 10.0.18362\n",
      "Machine: AMD64\n",
      "Processor: Intel64 Family 6 Model 158 Stepping 9, GenuineIntel\n"
     ]
    }
   ],
   "source": [
    "print(\"=\"*40, \"System Information\", \"=\"*40)\n",
    "uname = platform.uname()\n",
    "print(f\"System: {uname.system}\")\n",
    "print(f\"Node Name: {uname.node}\")\n",
    "print(f\"Release: {uname.release}\")\n",
    "print(f\"Version: {uname.version}\")\n",
    "print(f\"Machine: {uname.machine}\")\n",
    "print(f\"Processor: {uname.processor}\")"
   ]
  },
  {
   "cell_type": "code",
   "execution_count": 4,
   "metadata": {},
   "outputs": [
    {
     "name": "stdout",
     "output_type": "stream",
     "text": [
      "======================================== Boot Time ========================================\n",
      "Boot Time: 2020/3/4 8:34:26\n"
     ]
    }
   ],
   "source": [
    "# Boot Time\n",
    "print(\"=\"*40, \"Boot Time\", \"=\"*40)\n",
    "boot_time_timestamp = psutil.boot_time()\n",
    "bt = datetime.fromtimestamp(boot_time_timestamp)\n",
    "print(f\"Boot Time: {bt.year}/{bt.month}/{bt.day} {bt.hour}:{bt.minute}:{bt.second}\")"
   ]
  },
  {
   "cell_type": "code",
   "execution_count": 5,
   "metadata": {},
   "outputs": [
    {
     "name": "stdout",
     "output_type": "stream",
     "text": [
      "======================================== CPU Info ========================================\n",
      "Physical cores: 4\n",
      "Total cores: 4\n",
      "Max Frequency: 3000.00Mhz\n",
      "Min Frequency: 0.00Mhz\n",
      "Current Frequency: 3000.00Mhz\n",
      "CPU Usage Per Core:\n",
      "Core 0: 4.4%\n",
      "Core 1: 5.9%\n",
      "Core 2: 5.9%\n",
      "Core 3: 3.0%\n",
      "Total CPU Usage: 4.8%\n"
     ]
    }
   ],
   "source": [
    "# let's print CPU information\n",
    "print(\"=\"*40, \"CPU Info\", \"=\"*40)\n",
    "# number of cores\n",
    "print(\"Physical cores:\", psutil.cpu_count(logical=False))\n",
    "print(\"Total cores:\", psutil.cpu_count(logical=True))\n",
    "# CPU frequencies\n",
    "cpufreq = psutil.cpu_freq()\n",
    "print(f\"Max Frequency: {cpufreq.max:.2f}Mhz\")\n",
    "print(f\"Min Frequency: {cpufreq.min:.2f}Mhz\")\n",
    "print(f\"Current Frequency: {cpufreq.current:.2f}Mhz\")\n",
    "# CPU usage\n",
    "print(\"CPU Usage Per Core:\")\n",
    "for i, percentage in enumerate(psutil.cpu_percent(percpu=True)):\n",
    "    print(f\"Core {i}: {percentage}%\")\n",
    "print(f\"Total CPU Usage: {psutil.cpu_percent()}%\")"
   ]
  },
  {
   "cell_type": "code",
   "execution_count": 6,
   "metadata": {},
   "outputs": [
    {
     "name": "stdout",
     "output_type": "stream",
     "text": [
      "======================================== Memory Information ========================================\n",
      "Total: 7.91GB\n",
      "Available: 4.77GB\n",
      "Used: 3.14GB\n",
      "Percentage: 39.7%\n",
      "==================== SWAP ====================\n",
      "Total: 10.09GB\n",
      "Free: 5.43GB\n",
      "Used: 4.66GB\n",
      "Percentage: 46.2%\n"
     ]
    }
   ],
   "source": [
    "# Memory Information\n",
    "print(\"=\"*40, \"Memory Information\", \"=\"*40)\n",
    "# get the memory details\n",
    "svmem = psutil.virtual_memory()\n",
    "print(f\"Total: {get_size(svmem.total)}\")\n",
    "print(f\"Available: {get_size(svmem.available)}\")\n",
    "print(f\"Used: {get_size(svmem.used)}\")\n",
    "print(f\"Percentage: {svmem.percent}%\")\n",
    "print(\"=\"*20, \"SWAP\", \"=\"*20)\n",
    "# get the swap memory details (if exists)\n",
    "swap = psutil.swap_memory()\n",
    "print(f\"Total: {get_size(swap.total)}\")\n",
    "print(f\"Free: {get_size(swap.free)}\")\n",
    "print(f\"Used: {get_size(swap.used)}\")\n",
    "print(f\"Percentage: {swap.percent}%\")"
   ]
  },
  {
   "cell_type": "code",
   "execution_count": 7,
   "metadata": {},
   "outputs": [
    {
     "name": "stdout",
     "output_type": "stream",
     "text": [
      "======================================== Disk Information ========================================\n",
      "Partitions and Usage:\n",
      "=== Device: C:\\ ===\n",
      "  Mountpoint: C:\\\n",
      "  File system type: NTFS\n",
      "  Total Size: 193.95GB\n",
      "  Used: 142.24GB\n",
      "  Free: 51.72GB\n",
      "  Percentage: 73.3%\n",
      "=== Device: D:\\ ===\n",
      "  Mountpoint: D:\\\n",
      "  File system type: \n",
      "=== Device: E:\\ ===\n",
      "  Mountpoint: E:\\\n",
      "  File system type: NTFS\n",
      "  Total Size: 244.14GB\n",
      "  Used: 62.00GB\n",
      "  Free: 182.14GB\n",
      "  Percentage: 25.4%\n",
      "=== Device: F:\\ ===\n",
      "  Mountpoint: F:\\\n",
      "  File system type: NTFS\n",
      "  Total Size: 290.89GB\n",
      "  Used: 161.83MB\n",
      "  Free: 290.73GB\n",
      "  Percentage: 0.1%\n",
      "Total read: 59.41GB\n",
      "Total write: 33.56GB\n"
     ]
    }
   ],
   "source": [
    "# Disk Information\n",
    "print(\"=\"*40, \"Disk Information\", \"=\"*40)\n",
    "print(\"Partitions and Usage:\")\n",
    "# get all disk partitions\n",
    "partitions = psutil.disk_partitions()\n",
    "for partition in partitions:\n",
    "    print(f\"=== Device: {partition.device} ===\")\n",
    "    print(f\"  Mountpoint: {partition.mountpoint}\")\n",
    "    print(f\"  File system type: {partition.fstype}\")\n",
    "    try:\n",
    "        partition_usage = psutil.disk_usage(partition.mountpoint)\n",
    "    except PermissionError:\n",
    "        # this can be catched due to the disk that\n",
    "        # isn't ready\n",
    "        continue\n",
    "    print(f\"  Total Size: {get_size(partition_usage.total)}\")\n",
    "    print(f\"  Used: {get_size(partition_usage.used)}\")\n",
    "    print(f\"  Free: {get_size(partition_usage.free)}\")\n",
    "    print(f\"  Percentage: {partition_usage.percent}%\")\n",
    "# get IO statistics since boot\n",
    "disk_io = psutil.disk_io_counters()\n",
    "print(f\"Total read: {get_size(disk_io.read_bytes)}\")\n",
    "print(f\"Total write: {get_size(disk_io.write_bytes)}\")"
   ]
  },
  {
   "cell_type": "code",
   "execution_count": 8,
   "metadata": {},
   "outputs": [
    {
     "name": "stdout",
     "output_type": "stream",
     "text": [
      "======================================== Network Information ========================================\n",
      "=== Interface: Ethernet ===\n",
      "=== Interface: Ethernet ===\n",
      "  IP Address: 172.16.51.203\n",
      "  Netmask: 255.255.255.0\n",
      "  Broadcast IP: None\n",
      "=== Interface: Ethernet ===\n",
      "=== Interface: Ethernet 2 ===\n",
      "=== Interface: Ethernet 2 ===\n",
      "  IP Address: 192.168.95.1\n",
      "  Netmask: 255.255.255.0\n",
      "  Broadcast IP: None\n",
      "=== Interface: Ethernet 2 ===\n",
      "=== Interface: Ethernet 3 ===\n",
      "=== Interface: Ethernet 3 ===\n",
      "  IP Address: 192.168.187.1\n",
      "  Netmask: 255.255.255.0\n",
      "  Broadcast IP: None\n",
      "=== Interface: Ethernet 3 ===\n",
      "=== Interface: Loopback Pseudo-Interface 1 ===\n",
      "  IP Address: 127.0.0.1\n",
      "  Netmask: 255.0.0.0\n",
      "  Broadcast IP: None\n",
      "=== Interface: Loopback Pseudo-Interface 1 ===\n",
      "Total Bytes Sent: 543.07KB\n",
      "Total Bytes Received: 1.51MB\n"
     ]
    }
   ],
   "source": [
    "# Network information\n",
    "print(\"=\"*40, \"Network Information\", \"=\"*40)\n",
    "# get all network interfaces (virtual and physical)\n",
    "if_addrs = psutil.net_if_addrs()\n",
    "for interface_name, interface_addresses in if_addrs.items():\n",
    "    for address in interface_addresses:\n",
    "        print(f\"=== Interface: {interface_name} ===\")\n",
    "        if str(address.family) == 'AddressFamily.AF_INET':\n",
    "            print(f\"  IP Address: {address.address}\")\n",
    "            print(f\"  Netmask: {address.netmask}\")\n",
    "            print(f\"  Broadcast IP: {address.broadcast}\")\n",
    "        elif str(address.family) == 'AddressFamily.AF_PACKET':\n",
    "            print(f\"  MAC Address: {address.address}\")\n",
    "            print(f\"  Netmask: {address.netmask}\")\n",
    "            print(f\"  Broadcast MAC: {address.broadcast}\")\n",
    "# get IO statistics since boot\n",
    "net_io = psutil.net_io_counters()\n",
    "print(f\"Total Bytes Sent: {get_size(net_io.bytes_sent)}\")\n",
    "print(f\"Total Bytes Received: {get_size(net_io.bytes_recv)}\")"
   ]
  },
  {
   "cell_type": "code",
   "execution_count": 13,
   "metadata": {},
   "outputs": [
    {
     "data": {
      "text/plain": [
       "'4.00GB'"
      ]
     },
     "execution_count": 13,
     "metadata": {},
     "output_type": "execute_result"
    }
   ],
   "source": [
    "get_size(4294967295)"
   ]
  },
  {
   "cell_type": "code",
   "execution_count": 14,
   "metadata": {},
   "outputs": [],
   "source": [
    "import sys"
   ]
  },
  {
   "cell_type": "code",
   "execution_count": 41,
   "metadata": {},
   "outputs": [
    {
     "ename": "TypeError",
     "evalue": "call_tracing() takes exactly 2 arguments (0 given)",
     "output_type": "error",
     "traceback": [
      "\u001b[1;31m---------------------------------------------------------------------------\u001b[0m",
      "\u001b[1;31mTypeError\u001b[0m                                 Traceback (most recent call last)",
      "\u001b[1;32m<ipython-input-41-a8b6fa84e6da>\u001b[0m in \u001b[0;36m<module>\u001b[1;34m\u001b[0m\n\u001b[1;32m----> 1\u001b[1;33m \u001b[0msys\u001b[0m\u001b[1;33m.\u001b[0m\u001b[0mcall_tracing\u001b[0m\u001b[1;33m(\u001b[0m\u001b[1;33m)\u001b[0m\u001b[1;33m\u001b[0m\u001b[1;33m\u001b[0m\u001b[0m\n\u001b[0m",
      "\u001b[1;31mTypeError\u001b[0m: call_tracing() takes exactly 2 arguments (0 given)"
     ]
    }
   ],
   "source": [
    "sys.call_tracing()\n"
   ]
  },
  {
   "cell_type": "code",
   "execution_count": 21,
   "metadata": {},
   "outputs": [
    {
     "data": {
      "text/plain": [
       "['__breakpointhook__',\n",
       " '__displayhook__',\n",
       " '__doc__',\n",
       " '__excepthook__',\n",
       " '__interactivehook__',\n",
       " '__loader__',\n",
       " '__name__',\n",
       " '__package__',\n",
       " '__spec__',\n",
       " '__stderr__',\n",
       " '__stdin__',\n",
       " '__stdout__',\n",
       " '_clear_type_cache',\n",
       " '_current_frames',\n",
       " '_debugmallocstats',\n",
       " '_enablelegacywindowsfsencoding',\n",
       " '_framework',\n",
       " '_getframe',\n",
       " '_git',\n",
       " '_home',\n",
       " '_xoptions',\n",
       " 'api_version',\n",
       " 'argv',\n",
       " 'base_exec_prefix',\n",
       " 'base_prefix',\n",
       " 'breakpointhook',\n",
       " 'builtin_module_names',\n",
       " 'byteorder',\n",
       " 'call_tracing',\n",
       " 'callstats',\n",
       " 'copyright',\n",
       " 'displayhook',\n",
       " 'dllhandle',\n",
       " 'dont_write_bytecode',\n",
       " 'exc_info',\n",
       " 'excepthook',\n",
       " 'exec_prefix',\n",
       " 'executable',\n",
       " 'exit',\n",
       " 'flags',\n",
       " 'float_info',\n",
       " 'float_repr_style',\n",
       " 'get_asyncgen_hooks',\n",
       " 'get_coroutine_origin_tracking_depth',\n",
       " 'get_coroutine_wrapper',\n",
       " 'getallocatedblocks',\n",
       " 'getcheckinterval',\n",
       " 'getdefaultencoding',\n",
       " 'getfilesystemencodeerrors',\n",
       " 'getfilesystemencoding',\n",
       " 'getprofile',\n",
       " 'getrecursionlimit',\n",
       " 'getrefcount',\n",
       " 'getsizeof',\n",
       " 'getswitchinterval',\n",
       " 'gettrace',\n",
       " 'getwindowsversion',\n",
       " 'hash_info',\n",
       " 'hexversion',\n",
       " 'implementation',\n",
       " 'int_info',\n",
       " 'intern',\n",
       " 'is_finalizing',\n",
       " 'last_traceback',\n",
       " 'last_type',\n",
       " 'last_value',\n",
       " 'maxsize',\n",
       " 'maxunicode',\n",
       " 'meta_path',\n",
       " 'modules',\n",
       " 'path',\n",
       " 'path_hooks',\n",
       " 'path_importer_cache',\n",
       " 'platform',\n",
       " 'prefix',\n",
       " 'ps1',\n",
       " 'ps2',\n",
       " 'ps3',\n",
       " 'set_asyncgen_hooks',\n",
       " 'set_coroutine_origin_tracking_depth',\n",
       " 'set_coroutine_wrapper',\n",
       " 'setcheckinterval',\n",
       " 'setprofile',\n",
       " 'setrecursionlimit',\n",
       " 'setswitchinterval',\n",
       " 'settrace',\n",
       " 'stderr',\n",
       " 'stdin',\n",
       " 'stdout',\n",
       " 'thread_info',\n",
       " 'version',\n",
       " 'version_info',\n",
       " 'warnoptions',\n",
       " 'winver']"
      ]
     },
     "execution_count": 21,
     "metadata": {},
     "output_type": "execute_result"
    }
   ],
   "source": [
    "dir(sys)"
   ]
  },
  {
   "cell_type": "code",
   "execution_count": null,
   "metadata": {},
   "outputs": [],
   "source": []
  }
 ],
 "metadata": {
  "kernelspec": {
   "display_name": "Python 3",
   "language": "python",
   "name": "python3"
  },
  "language_info": {
   "codemirror_mode": {
    "name": "ipython",
    "version": 3
   },
   "file_extension": ".py",
   "mimetype": "text/x-python",
   "name": "python",
   "nbconvert_exporter": "python",
   "pygments_lexer": "ipython3",
   "version": "3.7.3"
  }
 },
 "nbformat": 4,
 "nbformat_minor": 2
}
