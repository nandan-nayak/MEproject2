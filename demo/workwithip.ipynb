{
 "cells": [
  {
   "cell_type": "code",
   "execution_count": 1,
   "metadata": {},
   "outputs": [],
   "source": [
    "import ipaddress"
   ]
  },
  {
   "cell_type": "code",
   "execution_count": 2,
   "metadata": {},
   "outputs": [
    {
     "data": {
      "text/plain": [
       "IPv4Address('172.16.51.203')"
      ]
     },
     "execution_count": 2,
     "metadata": {},
     "output_type": "execute_result"
    }
   ],
   "source": [
    "currentip=\"172.16.51.203\"\n",
    "bikeyip=\"172.16.51.33\" \n",
    "ipaddress.ip_address(currentip)"
   ]
  },
  {
   "cell_type": "code",
   "execution_count": 3,
   "metadata": {},
   "outputs": [
    {
     "data": {
      "text/plain": [
       "IPv4Interface('172.16.51.203/32')"
      ]
     },
     "execution_count": 3,
     "metadata": {},
     "output_type": "execute_result"
    }
   ],
   "source": [
    "ipaddress.ip_interface(currentip)"
   ]
  },
  {
   "cell_type": "code",
   "execution_count": 6,
   "metadata": {},
   "outputs": [
    {
     "data": {
      "text/plain": [
       "IPv4Network('172.16.51.203/32')"
      ]
     },
     "execution_count": 6,
     "metadata": {},
     "output_type": "execute_result"
    }
   ],
   "source": [
    "ipaddress.ip_network(currentip)"
   ]
  },
  {
   "cell_type": "code",
   "execution_count": 7,
   "metadata": {},
   "outputs": [
    {
     "data": {
      "text/plain": [
       "4294967295"
      ]
     },
     "execution_count": 7,
     "metadata": {},
     "output_type": "execute_result"
    }
   ],
   "source": [
    "ipaddress.ip_network(currentip)._ALL_ONES"
   ]
  },
  {
   "cell_type": "code",
   "execution_count": 8,
   "metadata": {},
   "outputs": [
    {
     "data": {
      "text/plain": [
       "['_ALL_ONES',\n",
       " '_DECIMAL_DIGITS',\n",
       " '__class__',\n",
       " '__contains__',\n",
       " '__delattr__',\n",
       " '__dict__',\n",
       " '__dir__',\n",
       " '__doc__',\n",
       " '__eq__',\n",
       " '__format__',\n",
       " '__ge__',\n",
       " '__getattribute__',\n",
       " '__getitem__',\n",
       " '__gt__',\n",
       " '__hash__',\n",
       " '__init__',\n",
       " '__init_subclass__',\n",
       " '__iter__',\n",
       " '__le__',\n",
       " '__lt__',\n",
       " '__module__',\n",
       " '__ne__',\n",
       " '__new__',\n",
       " '__reduce__',\n",
       " '__reduce_ex__',\n",
       " '__repr__',\n",
       " '__setattr__',\n",
       " '__sizeof__',\n",
       " '__slots__',\n",
       " '__str__',\n",
       " '__subclasshook__',\n",
       " '__weakref__',\n",
       " '_address_class',\n",
       " '_cache',\n",
       " '_check_int_address',\n",
       " '_check_packed_address',\n",
       " '_explode_shorthand_ip_string',\n",
       " '_get_networks_key',\n",
       " '_ip_int_from_prefix',\n",
       " '_ip_int_from_string',\n",
       " '_is_hostmask',\n",
       " '_is_subnet_of',\n",
       " '_is_valid_netmask',\n",
       " '_make_netmask',\n",
       " '_max_prefixlen',\n",
       " '_netmask_cache',\n",
       " '_parse_octet',\n",
       " '_prefix_from_ip_int',\n",
       " '_prefix_from_ip_string',\n",
       " '_prefix_from_prefix_string',\n",
       " '_prefixlen',\n",
       " '_report_invalid_netmask',\n",
       " '_reverse_pointer',\n",
       " '_string_from_ip_int',\n",
       " '_valid_mask_octets',\n",
       " '_version',\n",
       " 'address_exclude',\n",
       " 'broadcast_address',\n",
       " 'compare_networks',\n",
       " 'compressed',\n",
       " 'exploded',\n",
       " 'hostmask',\n",
       " 'hosts',\n",
       " 'is_global',\n",
       " 'is_link_local',\n",
       " 'is_loopback',\n",
       " 'is_multicast',\n",
       " 'is_private',\n",
       " 'is_reserved',\n",
       " 'is_unspecified',\n",
       " 'max_prefixlen',\n",
       " 'netmask',\n",
       " 'network_address',\n",
       " 'num_addresses',\n",
       " 'overlaps',\n",
       " 'prefixlen',\n",
       " 'reverse_pointer',\n",
       " 'subnet_of',\n",
       " 'subnets',\n",
       " 'supernet',\n",
       " 'supernet_of',\n",
       " 'version',\n",
       " 'with_hostmask',\n",
       " 'with_netmask',\n",
       " 'with_prefixlen']"
      ]
     },
     "execution_count": 8,
     "metadata": {},
     "output_type": "execute_result"
    }
   ],
   "source": [
    "dir(ipaddress.ip_network(currentip))"
   ]
  },
  {
   "cell_type": "code",
   "execution_count": null,
   "metadata": {},
   "outputs": [],
   "source": []
  }
 ],
 "metadata": {
  "kernelspec": {
   "display_name": "Python 3",
   "language": "python",
   "name": "python3"
  },
  "language_info": {
   "codemirror_mode": {
    "name": "ipython",
    "version": 3
   },
   "file_extension": ".py",
   "mimetype": "text/x-python",
   "name": "python",
   "nbconvert_exporter": "python",
   "pygments_lexer": "ipython3",
   "version": "3.7.3"
  }
 },
 "nbformat": 4,
 "nbformat_minor": 2
}
