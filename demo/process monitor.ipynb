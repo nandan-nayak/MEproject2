{
 "cells": [
  {
   "cell_type": "code",
   "execution_count": 9,
   "metadata": {},
   "outputs": [],
   "source": [
    "import psutil\n",
    "from datetime import datetime\n",
    "import pandas as pd\n",
    "import time\n",
    "import os\n",
    "import argparse"
   ]
  },
  {
   "cell_type": "code",
   "execution_count": 6,
   "metadata": {},
   "outputs": [],
   "source": [
    "def get_processes_info():\n",
    "    # the list the contain all process dictionaries\n",
    "    processes = []\n",
    "    for process in psutil.process_iter():\n",
    "        # get all process info in one shot\n",
    "        with process.oneshot():\n",
    "            # get the process id\n",
    "            pid = process.pid\n",
    "            if pid == 0:\n",
    "                # System Idle Process for Windows NT, useless to see anyways\n",
    "                continue\n",
    "            # get the name of the file executed\n",
    "            name = process.name()\n",
    "            # get the time the process was spawned\n",
    "            try:\n",
    "                create_time = datetime.fromtimestamp(process.create_time())\n",
    "            except OSError:\n",
    "                # system processes, using boot time instead\n",
    "                create_time = datetime.fromtimestamp(psutil.boot_time())\n",
    "            try:\n",
    "                # get the number of CPU cores that can execute this process\n",
    "                cores = len(process.cpu_affinity())\n",
    "            except psutil.AccessDenied:\n",
    "                cores = 0\n",
    "            # get the CPU usage percentage\n",
    "            cpu_usage = process.cpu_percent()\n",
    "            # get the status of the process (running, idle, etc.)\n",
    "            status = process.status()\n",
    "            try:\n",
    "                # get the process priority (a lower value means a more prioritized process)\n",
    "                nice = int(process.nice())\n",
    "            except psutil.AccessDenied:\n",
    "                nice = 0\n",
    "            try:\n",
    "                # get the memory usage in bytes\n",
    "                memory_usage = process.memory_full_info().uss\n",
    "            except psutil.AccessDenied:\n",
    "                memory_usage = 0\n",
    "            # total process read and written bytes\n",
    "            io_counters = process.io_counters()\n",
    "            read_bytes = io_counters.read_bytes\n",
    "            write_bytes = io_counters.write_bytes\n",
    "            \n",
    "             # get the number of total threads spawned by this process\n",
    "            n_threads = process.num_threads()\n",
    "            \n",
    "            \n",
    "            \n",
    "            \n",
    "            \n",
    "            # get the username of user spawned the process\n",
    "            try:\n",
    "                username = process.username()\n",
    "            except psutil.AccessDenied:\n",
    "                username = \"N/A\"\n",
    "            \n",
    "            \n",
    "            \n",
    "            \n",
    "            processes.append({\n",
    "            'pid': pid, 'name': name, 'create_time': create_time,\n",
    "            'cores': cores, 'cpu_usage': cpu_usage, 'status': status, 'nice': nice,\n",
    "            'memory_usage': memory_usage, 'read_bytes': read_bytes, 'write_bytes': write_bytes,\n",
    "            'n_threads': n_threads, 'username': username,\n",
    "        })\n",
    "        \n",
    "    return processes\n",
    "            "
   ]
  },
  {
   "cell_type": "code",
   "execution_count": 7,
   "metadata": {},
   "outputs": [],
   "source": [
    "def construct_dataframe(processes):\n",
    "    # convert to pandas dataframe\n",
    "    df = pd.DataFrame(processes)\n",
    "    # set the process id as index of a process\n",
    "    df.set_index('pid', inplace=True)\n",
    "    # sort rows by the column passed as argument\n",
    "    df.sort_values(sort_by, inplace=True, ascending=not descending)\n",
    "    # pretty printing bytes\n",
    "    df['memory_usage'] = df['memory_usage'].apply(get_size)\n",
    "    df['write_bytes'] = df['write_bytes'].apply(get_size)\n",
    "    df['read_bytes'] = df['read_bytes'].apply(get_size)\n",
    "    # convert to proper date format\n",
    "    df['create_time'] = df['create_time'].apply(datetime.strftime, args=(\"%Y-%m-%d %H:%M:%S\",))\n",
    "    # reorder and define used columns\n",
    "    df = df[columns.split(\",\")]\n",
    "    return df"
   ]
  },
  {
   "cell_type": "code",
   "execution_count": 8,
   "metadata": {},
   "outputs": [],
   "source": [
    "def get_size(bytes):\n",
    "    \"\"\"\n",
    "    Returns size of bytes in a nice format\n",
    "    \"\"\"\n",
    "    for unit in ['', 'K', 'M', 'G', 'T', 'P']:\n",
    "        if bytes < 1024:\n",
    "            return f\"{bytes:.2f}{unit}B\"\n",
    "        bytes /= 1024"
   ]
  },
  {
   "cell_type": "code",
   "execution_count": 11,
   "metadata": {},
   "outputs": [
    {
     "name": "stderr",
     "output_type": "stream",
     "text": [
      "usage: ipykernel_launcher.py [-h] [-c COLUMNS] [-s SORT_BY] [--descending]\n",
      "                             [-n N] [-u]\n",
      "ipykernel_launcher.py: error: unrecognized arguments: -f C:\\Users\\SOIS\\AppData\\Roaming\\jupyter\\runtime\\kernel-1bac8cfc-c38c-4ca1-8e96-62f1a3de07ff.json\n"
     ]
    },
    {
     "ename": "SystemExit",
     "evalue": "2",
     "output_type": "error",
     "traceback": [
      "An exception has occurred, use %tb to see the full traceback.\n",
      "\u001b[1;31mSystemExit\u001b[0m\u001b[1;31m:\u001b[0m 2\n"
     ]
    }
   ],
   "source": [
    "if __name__ == \"__main__\":\n",
    "    #import argparse\n",
    "    parser = argparse.ArgumentParser(description=\"Process Viewer & Monitor\")\n",
    "    parser.add_argument(\"-c\", \"--columns\", help=\"\"\"Columns to show,\n",
    "                                                available are name,create_time,cores,cpu_usage,status,nice,memory_usage,read_bytes,write_bytes,n_threads,username.\n",
    "                                                Default is name,cpu_usage,memory_usage,read_bytes,write_bytes,status,create_time,nice,n_threads,cores.\"\"\",\n",
    "                        default=\"name,cpu_usage,memory_usage,read_bytes,write_bytes,status,create_time,nice,n_threads,cores\")\n",
    "    parser.add_argument(\"-s\", \"--sort-by\", dest=\"sort_by\", help=\"Column to sort by, default is memory_usage .\", default=\"memory_usage\")\n",
    "    parser.add_argument(\"--descending\", action=\"store_true\", help=\"Whether to sort in descending order.\")\n",
    "    parser.add_argument(\"-n\", help=\"Number of processes to show, will show all if 0 is specified, default is 25 .\", default=25)\n",
    "    parser.add_argument(\"-u\", \"--live-update\", action=\"store_true\", help=\"Whether to keep the program on and updating process information each second\")\n",
    "\n",
    "    # parse arguments\n",
    "    args = parser.parse_args()\n",
    "    columns = args.columns\n",
    "    sort_by = args.sort_by\n",
    "    descending = args.descending\n",
    "    n = int(args.n)\n",
    "    live_update = args.live_update\n",
    "    # print the processes for the first time\n",
    "    processes = get_processes_info()\n",
    "    df = construct_dataframe(processes)\n",
    "    if n == 0:\n",
    "        print(df.to_string())\n",
    "    elif n > 0:\n",
    "        print(df.head(n).to_string())\n",
    "    # print continuously\n",
    "    while live_update:\n",
    "        # get all process info\n",
    "        processes = get_processes_info()\n",
    "        df = construct_dataframe(processes)\n",
    "        # clear the screen depending on your OS\n",
    "        os.system(\"cls\") if \"nt\" in os.name else os.system(\"clear\")\n",
    "        if n == 0:\n",
    "            print(df.to_string())\n",
    "        elif n > 0:\n",
    "            print(df.head(n).to_string())\n",
    "        time.sleep(0.7)"
   ]
  },
  {
   "cell_type": "code",
   "execution_count": 12,
   "metadata": {},
   "outputs": [
    {
     "ename": "SystemExit",
     "evalue": "2",
     "output_type": "error",
     "traceback": [
      "\u001b[1;31m---------------------------------------------------------------------------\u001b[0m",
      "\u001b[1;31mSystemExit\u001b[0m                                Traceback (most recent call last)",
      "\u001b[1;32m<ipython-input-11-1c89de920c46>\u001b[0m in \u001b[0;36m<module>\u001b[1;34m\u001b[0m\n\u001b[0;32m     12\u001b[0m \u001b[1;33m\u001b[0m\u001b[0m\n\u001b[0;32m     13\u001b[0m     \u001b[1;31m# parse arguments\u001b[0m\u001b[1;33m\u001b[0m\u001b[1;33m\u001b[0m\u001b[1;33m\u001b[0m\u001b[0m\n\u001b[1;32m---> 14\u001b[1;33m     \u001b[0margs\u001b[0m \u001b[1;33m=\u001b[0m \u001b[0mparser\u001b[0m\u001b[1;33m.\u001b[0m\u001b[0mparse_args\u001b[0m\u001b[1;33m(\u001b[0m\u001b[1;33m)\u001b[0m\u001b[1;33m\u001b[0m\u001b[1;33m\u001b[0m\u001b[0m\n\u001b[0m\u001b[0;32m     15\u001b[0m     \u001b[0mcolumns\u001b[0m \u001b[1;33m=\u001b[0m \u001b[0margs\u001b[0m\u001b[1;33m.\u001b[0m\u001b[0mcolumns\u001b[0m\u001b[1;33m\u001b[0m\u001b[1;33m\u001b[0m\u001b[0m\n\u001b[0;32m     16\u001b[0m     \u001b[0msort_by\u001b[0m \u001b[1;33m=\u001b[0m \u001b[0margs\u001b[0m\u001b[1;33m.\u001b[0m\u001b[0msort_by\u001b[0m\u001b[1;33m\u001b[0m\u001b[1;33m\u001b[0m\u001b[0m\n",
      "\u001b[1;32mC:\\Anaconda3\\lib\\argparse.py\u001b[0m in \u001b[0;36mparse_args\u001b[1;34m(self, args, namespace)\u001b[0m\n\u001b[0;32m   1750\u001b[0m         \u001b[1;32mif\u001b[0m \u001b[0margv\u001b[0m\u001b[1;33m:\u001b[0m\u001b[1;33m\u001b[0m\u001b[1;33m\u001b[0m\u001b[0m\n\u001b[0;32m   1751\u001b[0m             \u001b[0mmsg\u001b[0m \u001b[1;33m=\u001b[0m \u001b[0m_\u001b[0m\u001b[1;33m(\u001b[0m\u001b[1;34m'unrecognized arguments: %s'\u001b[0m\u001b[1;33m)\u001b[0m\u001b[1;33m\u001b[0m\u001b[1;33m\u001b[0m\u001b[0m\n\u001b[1;32m-> 1752\u001b[1;33m             \u001b[0mself\u001b[0m\u001b[1;33m.\u001b[0m\u001b[0merror\u001b[0m\u001b[1;33m(\u001b[0m\u001b[0mmsg\u001b[0m \u001b[1;33m%\u001b[0m \u001b[1;34m' '\u001b[0m\u001b[1;33m.\u001b[0m\u001b[0mjoin\u001b[0m\u001b[1;33m(\u001b[0m\u001b[0margv\u001b[0m\u001b[1;33m)\u001b[0m\u001b[1;33m)\u001b[0m\u001b[1;33m\u001b[0m\u001b[1;33m\u001b[0m\u001b[0m\n\u001b[0m\u001b[0;32m   1753\u001b[0m         \u001b[1;32mreturn\u001b[0m \u001b[0margs\u001b[0m\u001b[1;33m\u001b[0m\u001b[1;33m\u001b[0m\u001b[0m\n\u001b[0;32m   1754\u001b[0m \u001b[1;33m\u001b[0m\u001b[0m\n",
      "\u001b[1;32mC:\\Anaconda3\\lib\\argparse.py\u001b[0m in \u001b[0;36merror\u001b[1;34m(self, message)\u001b[0m\n\u001b[0;32m   2499\u001b[0m         \u001b[0mself\u001b[0m\u001b[1;33m.\u001b[0m\u001b[0mprint_usage\u001b[0m\u001b[1;33m(\u001b[0m\u001b[0m_sys\u001b[0m\u001b[1;33m.\u001b[0m\u001b[0mstderr\u001b[0m\u001b[1;33m)\u001b[0m\u001b[1;33m\u001b[0m\u001b[1;33m\u001b[0m\u001b[0m\n\u001b[0;32m   2500\u001b[0m         \u001b[0margs\u001b[0m \u001b[1;33m=\u001b[0m \u001b[1;33m{\u001b[0m\u001b[1;34m'prog'\u001b[0m\u001b[1;33m:\u001b[0m \u001b[0mself\u001b[0m\u001b[1;33m.\u001b[0m\u001b[0mprog\u001b[0m\u001b[1;33m,\u001b[0m \u001b[1;34m'message'\u001b[0m\u001b[1;33m:\u001b[0m \u001b[0mmessage\u001b[0m\u001b[1;33m}\u001b[0m\u001b[1;33m\u001b[0m\u001b[1;33m\u001b[0m\u001b[0m\n\u001b[1;32m-> 2501\u001b[1;33m         \u001b[0mself\u001b[0m\u001b[1;33m.\u001b[0m\u001b[0mexit\u001b[0m\u001b[1;33m(\u001b[0m\u001b[1;36m2\u001b[0m\u001b[1;33m,\u001b[0m \u001b[0m_\u001b[0m\u001b[1;33m(\u001b[0m\u001b[1;34m'%(prog)s: error: %(message)s\\n'\u001b[0m\u001b[1;33m)\u001b[0m \u001b[1;33m%\u001b[0m \u001b[0margs\u001b[0m\u001b[1;33m)\u001b[0m\u001b[1;33m\u001b[0m\u001b[1;33m\u001b[0m\u001b[0m\n\u001b[0m",
      "\u001b[1;32mC:\\Anaconda3\\lib\\argparse.py\u001b[0m in \u001b[0;36mexit\u001b[1;34m(self, status, message)\u001b[0m\n\u001b[0;32m   2486\u001b[0m         \u001b[1;32mif\u001b[0m \u001b[0mmessage\u001b[0m\u001b[1;33m:\u001b[0m\u001b[1;33m\u001b[0m\u001b[1;33m\u001b[0m\u001b[0m\n\u001b[0;32m   2487\u001b[0m             \u001b[0mself\u001b[0m\u001b[1;33m.\u001b[0m\u001b[0m_print_message\u001b[0m\u001b[1;33m(\u001b[0m\u001b[0mmessage\u001b[0m\u001b[1;33m,\u001b[0m \u001b[0m_sys\u001b[0m\u001b[1;33m.\u001b[0m\u001b[0mstderr\u001b[0m\u001b[1;33m)\u001b[0m\u001b[1;33m\u001b[0m\u001b[1;33m\u001b[0m\u001b[0m\n\u001b[1;32m-> 2488\u001b[1;33m         \u001b[0m_sys\u001b[0m\u001b[1;33m.\u001b[0m\u001b[0mexit\u001b[0m\u001b[1;33m(\u001b[0m\u001b[0mstatus\u001b[0m\u001b[1;33m)\u001b[0m\u001b[1;33m\u001b[0m\u001b[1;33m\u001b[0m\u001b[0m\n\u001b[0m\u001b[0;32m   2489\u001b[0m \u001b[1;33m\u001b[0m\u001b[0m\n\u001b[0;32m   2490\u001b[0m     \u001b[1;32mdef\u001b[0m \u001b[0merror\u001b[0m\u001b[1;33m(\u001b[0m\u001b[0mself\u001b[0m\u001b[1;33m,\u001b[0m \u001b[0mmessage\u001b[0m\u001b[1;33m)\u001b[0m\u001b[1;33m:\u001b[0m\u001b[1;33m\u001b[0m\u001b[1;33m\u001b[0m\u001b[0m\n",
      "\u001b[1;31mSystemExit\u001b[0m: 2"
     ]
    }
   ],
   "source": [
    "%tb"
   ]
  },
  {
   "cell_type": "code",
   "execution_count": null,
   "metadata": {},
   "outputs": [],
   "source": []
  }
 ],
 "metadata": {
  "kernelspec": {
   "display_name": "Python 3",
   "language": "python",
   "name": "python3"
  },
  "language_info": {
   "codemirror_mode": {
    "name": "ipython",
    "version": 3
   },
   "file_extension": ".py",
   "mimetype": "text/x-python",
   "name": "python",
   "nbconvert_exporter": "python",
   "pygments_lexer": "ipython3",
   "version": "3.7.3"
  }
 },
 "nbformat": 4,
 "nbformat_minor": 2
}
